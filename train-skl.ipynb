{
 "cells": [
  {
   "cell_type": "markdown",
   "id": "d80f7480",
   "metadata": {},
   "source": [
    "Author: Joseph Ko <br>\n",
    "Reproducible notebook to train scikit-learn models from: \"A Machine Learning Framework for Predicting Microphysical Properties of Ice Crystals from Cloud Particle Imagery\" (Ko et al. 2025) <br>\n",
    "Required packages: scikit-learn, joblib, numpy, pandas"
   ]
  },
  {
   "cell_type": "markdown",
   "id": "f987c10b",
   "metadata": {},
   "source": [
    "# Imports and configuration"
   ]
  },
  {
   "cell_type": "code",
   "execution_count": 1,
   "id": "ea87da15-847a-4b67-b61b-cabd6966088c",
   "metadata": {},
   "outputs": [],
   "source": [
    "from sklearn.ensemble import RandomForestRegressor, RandomForestClassifier\n",
    "from sklearn.linear_model import LinearRegression, LogisticRegression\n",
    "from sklearn.preprocessing import StandardScaler\n",
    "import joblib\n",
    "import numpy as np\n",
    "import pandas as pd\n",
    "import os"
   ]
  },
  {
   "cell_type": "markdown",
   "id": "b81ddae0",
   "metadata": {},
   "source": [
    "!!! IMPORTANT NOTE !!! <br>\n",
    "Paths throughout this notebook must be set by user! <br>\n",
    "Required idx files inside of idx.tar at: 10.5281/zenodo.15758769 \n",
    "Required tabular data is in tabular-data.tar at: 10.5281/zenodo.15758769 "
   ]
  },
  {
   "cell_type": "code",
   "execution_count": 2,
   "id": "c530abb0-b9dd-4e2c-b4e3-0768fa4ea17c",
   "metadata": {},
   "outputs": [],
   "source": [
    "# load indices\n",
    "train_idx_path = \"/home/jko/synth-ros-data/idx/idx-train-sequential-subset-700k.txt\"\n",
    "val_idx_path = \"/home/jko/synth-ros-data/idx/idx-val-sequential-subset-700k.txt\"\n",
    "test_idx_path = \"/home/jko/synth-ros-data/idx/idx-test-sequential-subset-700k.txt\"\n",
    "train_idx = np.loadtxt(train_idx_path, dtype=int)\n",
    "val_idx = np.loadtxt(val_idx_path, dtype=int)\n",
    "test_idx = np.loadtxt(test_idx_path, dtype=int)\n",
    "# define targets and features\n",
    "features_single = ['aspect_ratio', 'aspect_ratio_elip', 'extreme_pts', \n",
    "        'contour_area', 'contour_perimeter', 'area_ratio', 'complexity', \n",
    "        'circularity']\n",
    "features_stereo = ['aspect_ratio_1','aspect_ratio_elip_1', 'extreme_pts_1', 'contour_area_1', 'contour_perimeter_1', 'area_ratio_1', 'complexity_1', 'circularity_1', 'aspect_ratio_2', 'aspect_ratio_elip_2', 'extreme_pts_2', 'contour_area_2', 'contour_perimeter_2', 'area_ratio_2', 'complexity_2','circularity_2']\n",
    "targets_reg = ['rho_eff', 'sa_eff']\n",
    "targets_cls = ['n_arms']\n",
    "n_rand = 666 # this random seed was used for analysis in paper\n",
    "# specify where to save your scikit-learn models\n",
    "out_dir = '/home/jko/temp/skl-models'\n",
    "os.makedirs(out_dir, exist_ok=True)\n",
    "# set number of cpus available\n",
    "ncpus = 32"
   ]
  },
  {
   "cell_type": "markdown",
   "id": "0f1ac697",
   "metadata": {},
   "source": [
    "For point of reference, this whole notebook runs in a few minutes with 32 cpus."
   ]
  },
  {
   "cell_type": "markdown",
   "id": "8dd0be61-8225-4632-a1d1-beef1a5126df",
   "metadata": {},
   "source": [
    "# Linear baseline"
   ]
  },
  {
   "cell_type": "markdown",
   "id": "c95d1acc",
   "metadata": {},
   "source": [
    "## Single view"
   ]
  },
  {
   "cell_type": "code",
   "execution_count": 3,
   "id": "72fe1555",
   "metadata": {},
   "outputs": [],
   "source": [
    "data_dir = '/home/jko/synth-ros-data/tabular-data-v2/shuffled_small'\n",
    "data_file = 'ros-tabular-data-shuffled-default-subset-700000.parquet'\n",
    "data_path = os.path.join(data_dir, data_file)"
   ]
  },
  {
   "cell_type": "markdown",
   "id": "266c7354",
   "metadata": {},
   "source": [
    "### Regression"
   ]
  },
  {
   "cell_type": "code",
   "execution_count": 4,
   "id": "9837ad9d-ce0d-4e1c-9f09-2db7d391954f",
   "metadata": {},
   "outputs": [
    {
     "data": {
      "text/plain": [
       "['/home/jko/temp/skl-models/lin_reg.pkl']"
      ]
     },
     "execution_count": 4,
     "metadata": {},
     "output_type": "execute_result"
    }
   ],
   "source": [
    "# create train/test set\n",
    "df = pd.read_parquet(data_path)\n",
    "df = df[df['view']=='default']\n",
    "df_features = df[features_single]\n",
    "df_targets = df[targets_reg]\n",
    "X = df_features\n",
    "y = df_targets\n",
    "# train/val/test split \n",
    "X_train = df_features.iloc[train_idx]\n",
    "X_val = df_features.iloc[val_idx]\n",
    "X_test = df_features.iloc[test_idx]\n",
    "y_train = df_targets.iloc[train_idx] \n",
    "y_val = df_targets.iloc[val_idx]\n",
    "y_test = df_targets.iloc[test_idx]\n",
    "# train\n",
    "reg = LinearRegression()\n",
    "reg.fit(X_train, y_train)\n",
    "# save model\n",
    "out_filename = 'lin_reg.pkl'\n",
    "out_path = os.path.join(out_dir, out_filename)\n",
    "joblib.dump(reg, out_path)"
   ]
  },
  {
   "cell_type": "markdown",
   "id": "527d8c98",
   "metadata": {},
   "source": [
    "### Classification"
   ]
  },
  {
   "cell_type": "code",
   "execution_count": 5,
   "id": "be3dc102",
   "metadata": {},
   "outputs": [
    {
     "data": {
      "text/plain": [
       "['/home/jko/temp/skl-models/lin_cls.pkl']"
      ]
     },
     "execution_count": 5,
     "metadata": {},
     "output_type": "execute_result"
    }
   ],
   "source": [
    "# create train/test set\n",
    "df = pd.read_parquet(data_path)\n",
    "df = df[df['view']=='default']\n",
    "df_features = df[features_single]\n",
    "df_targets = df[targets_cls]\n",
    "X = df_features\n",
    "y = df_targets\n",
    "# train/val/test split\n",
    "X_train = df_features.iloc[train_idx]\n",
    "X_val = df_features.iloc[val_idx]\n",
    "X_test = df_features.iloc[test_idx]\n",
    "y_train = df_targets.iloc[train_idx] \n",
    "y_val = df_targets.iloc[val_idx]\n",
    "y_test = df_targets.iloc[test_idx] \n",
    "# train logistic regression (linear classifier)\n",
    "linear_classifier = LogisticRegression(solver='saga', random_state=n_rand, max_iter=1000, n_jobs=ncpus)\n",
    "scaler = StandardScaler()\n",
    "X_train_scaled = scaler.fit_transform(X_train)\n",
    "X_val_scaled = scaler.transform(X_val)\n",
    "X_test_scaled = scaler.transform(X_test)\n",
    "linear_classifier.fit(X_train_scaled, y_train.values.ravel())\n",
    "# save model\n",
    "out_filename = 'lin_cls.pkl'\n",
    "out_path = os.path.join(out_dir, out_filename)\n",
    "joblib.dump(linear_classifier, out_path)"
   ]
  },
  {
   "cell_type": "markdown",
   "id": "61f4685c",
   "metadata": {},
   "source": [
    "## Stereo View (2DS)"
   ]
  },
  {
   "cell_type": "code",
   "execution_count": 6,
   "id": "dd515109",
   "metadata": {},
   "outputs": [],
   "source": [
    "data_dir = '/home/jko/synth-ros-data/tabular-data-v2/shuffled_small'\n",
    "data_file = 'ros-tabular-data-stereo-default-2ds-shuffled-subset-700000.parquet'\n",
    "data_path = os.path.join(data_dir, data_file)"
   ]
  },
  {
   "cell_type": "markdown",
   "id": "d8c48cc1",
   "metadata": {},
   "source": [
    "### Regression"
   ]
  },
  {
   "cell_type": "code",
   "execution_count": 7,
   "id": "14f643b3",
   "metadata": {},
   "outputs": [
    {
     "data": {
      "text/plain": [
       "['/home/jko/temp/skl-models/lin_reg_stereo_2ds.pkl']"
      ]
     },
     "execution_count": 7,
     "metadata": {},
     "output_type": "execute_result"
    }
   ],
   "source": [
    "# create train/test set\n",
    "df = pd.read_parquet(data_path)\n",
    "df_features = df[features_stereo]\n",
    "df_targets = df[targets_reg]\n",
    "X = df_features\n",
    "y = df_targets\n",
    "# train/val/test split\n",
    "X_train = df_features.iloc[train_idx]\n",
    "X_val = df_features.iloc[val_idx]\n",
    "X_test = df_features.iloc[test_idx]\n",
    "y_train = df_targets.iloc[train_idx] \n",
    "y_val = df_targets.iloc[val_idx]\n",
    "y_test = df_targets.iloc[test_idx] \n",
    "# train\n",
    "reg = LinearRegression()\n",
    "reg.fit(X_train, y_train)\n",
    "# save model\n",
    "out_filename = 'lin_reg_stereo_2ds.pkl'\n",
    "out_path = os.path.join(out_dir, out_filename)\n",
    "joblib.dump(reg, out_path)"
   ]
  },
  {
   "cell_type": "markdown",
   "id": "882188ea",
   "metadata": {},
   "source": [
    "### Classification"
   ]
  },
  {
   "cell_type": "code",
   "execution_count": 8,
   "id": "92b633cb",
   "metadata": {},
   "outputs": [
    {
     "data": {
      "text/plain": [
       "['/home/jko/temp/skl-models/lin_cls_stereo_2ds.pkl']"
      ]
     },
     "execution_count": 8,
     "metadata": {},
     "output_type": "execute_result"
    }
   ],
   "source": [
    "# create train/test set\n",
    "df = pd.read_parquet(data_path)\n",
    "df_features = df[features_stereo]\n",
    "df_targets = df[targets_cls]\n",
    "X = df_features\n",
    "y = df_targets\n",
    "# train/val/test split\n",
    "X_train = df_features.iloc[train_idx]\n",
    "X_val = df_features.iloc[val_idx]\n",
    "X_test = df_features.iloc[test_idx]\n",
    "y_train = df_targets.iloc[train_idx] \n",
    "y_val = df_targets.iloc[val_idx]\n",
    "y_test = df_targets.iloc[test_idx] \n",
    "# train logistic regression\n",
    "linear_classifier = LogisticRegression(solver='saga', random_state=n_rand, max_iter=1000, n_jobs=ncpus)\n",
    "scaler = StandardScaler()\n",
    "X_train_scaled = scaler.fit_transform(X_train)\n",
    "X_val_scaled = scaler.transform(X_val)\n",
    "X_test_scaled = scaler.transform(X_test)\n",
    "linear_classifier.fit(X_train_scaled, y_train.values.ravel())\n",
    "# save model\n",
    "out_filename = 'lin_cls_stereo_2ds.pkl'\n",
    "out_path = os.path.join(out_dir, out_filename)\n",
    "joblib.dump(linear_classifier, out_path)"
   ]
  },
  {
   "cell_type": "markdown",
   "id": "eaae7b7d",
   "metadata": {},
   "source": [
    "## Stereo View (PHIPS)"
   ]
  },
  {
   "cell_type": "code",
   "execution_count": 9,
   "id": "160c1cc7",
   "metadata": {},
   "outputs": [],
   "source": [
    "data_dir = '/home/jko/synth-ros-data/tabular-data-v2/shuffled_small'\n",
    "data_file = 'ros-tabular-data-stereo-default-2ds-shuffled-subset-700000.parquet'\n",
    "data_path = os.path.join(data_dir, data_file)"
   ]
  },
  {
   "cell_type": "markdown",
   "id": "4b46b92f",
   "metadata": {},
   "source": [
    "### Regression"
   ]
  },
  {
   "cell_type": "code",
   "execution_count": 10,
   "id": "3e8486af",
   "metadata": {},
   "outputs": [
    {
     "data": {
      "text/plain": [
       "['/home/jko/temp/skl-models/lin_reg_stereo_phips.pkl']"
      ]
     },
     "execution_count": 10,
     "metadata": {},
     "output_type": "execute_result"
    }
   ],
   "source": [
    "# create train/test set\n",
    "df = pd.read_parquet(data_path)\n",
    "df_features = df[features_stereo]\n",
    "df_targets = df[targets_reg]\n",
    "X = df_features\n",
    "y = df_targets\n",
    "# train/val/test split\n",
    "X_train = df_features.iloc[train_idx]\n",
    "X_val = df_features.iloc[val_idx]\n",
    "X_test = df_features.iloc[test_idx]\n",
    "y_train = df_targets.iloc[train_idx] \n",
    "y_val = df_targets.iloc[val_idx]\n",
    "y_test = df_targets.iloc[test_idx] \n",
    "# train\n",
    "reg = LinearRegression()\n",
    "reg.fit(X_train, y_train)\n",
    "# save model\n",
    "out_filename = 'lin_reg_stereo_phips.pkl'\n",
    "out_path = os.path.join(out_dir, out_filename)\n",
    "joblib.dump(reg, out_path)"
   ]
  },
  {
   "cell_type": "markdown",
   "id": "80f7c847",
   "metadata": {},
   "source": [
    "### Classification"
   ]
  },
  {
   "cell_type": "code",
   "execution_count": 11,
   "id": "b98a4312",
   "metadata": {},
   "outputs": [
    {
     "data": {
      "text/plain": [
       "['/home/jko/temp/skl-models/lin_cls_stereo_phips.pkl']"
      ]
     },
     "execution_count": 11,
     "metadata": {},
     "output_type": "execute_result"
    }
   ],
   "source": [
    "# create train/test set\n",
    "df = pd.read_parquet(data_path)\n",
    "df_features = df[features_stereo]\n",
    "df_targets = df[targets_cls]\n",
    "X = df_features\n",
    "y = df_targets\n",
    "# train/val/test split\n",
    "X_train = df_features.iloc[train_idx]\n",
    "X_val = df_features.iloc[val_idx]\n",
    "X_test = df_features.iloc[test_idx]\n",
    "y_train = df_targets.iloc[train_idx] \n",
    "y_val = df_targets.iloc[val_idx]\n",
    "y_test = df_targets.iloc[test_idx] \n",
    "# train logistic regression\n",
    "linear_classifier = LogisticRegression(solver='saga', random_state=n_rand, max_iter=1000, n_jobs=ncpus)\n",
    "scaler = StandardScaler()\n",
    "X_train_scaled = scaler.fit_transform(X_train)\n",
    "X_val_scaled = scaler.transform(X_val)\n",
    "X_test_scaled = scaler.transform(X_test)\n",
    "linear_classifier.fit(X_train_scaled, y_train.values.ravel())\n",
    "# save model\n",
    "out_filename = 'lin_cls_stereo_phips.pkl'\n",
    "out_path = os.path.join(out_dir, out_filename)\n",
    "joblib.dump(linear_classifier, out_path)"
   ]
  },
  {
   "cell_type": "markdown",
   "id": "fab10d35",
   "metadata": {},
   "source": [
    "# Random Forest"
   ]
  },
  {
   "cell_type": "code",
   "execution_count": 12,
   "id": "130f0af5",
   "metadata": {},
   "outputs": [],
   "source": [
    "data_dir = '/home/jko/synth-ros-data/tabular-data-v2/shuffled_small'\n",
    "data_file = 'ros-tabular-data-shuffled-default-subset-700000.parquet'\n",
    "data_path = os.path.join(data_dir, data_file)"
   ]
  },
  {
   "cell_type": "markdown",
   "id": "a0c6c81e",
   "metadata": {},
   "source": [
    "## Regression"
   ]
  },
  {
   "cell_type": "code",
   "execution_count": 13,
   "id": "5ba1d0b6",
   "metadata": {},
   "outputs": [
    {
     "data": {
      "text/plain": [
       "['/home/jko/temp/skl-models/rf_reg.pkl']"
      ]
     },
     "execution_count": 13,
     "metadata": {},
     "output_type": "execute_result"
    }
   ],
   "source": [
    "# set hyperparameters (tuned with grid search)\n",
    "max_depth=20 \n",
    "min_samples_leaf=10\n",
    "n_estimators=200\n",
    "# create train/test set\n",
    "df = pd.read_parquet(data_path)\n",
    "df = df[df['view']=='default']\n",
    "df_features = df[features_single]\n",
    "df_targets = df[targets_reg]\n",
    "X = df_features\n",
    "y = df_targets\n",
    "# train/val/test split\n",
    "X_train = df_features.iloc[train_idx]\n",
    "X_val = df_features.iloc[val_idx]\n",
    "X_test = df_features.iloc[test_idx]\n",
    "y_train = df_targets.iloc[train_idx] \n",
    "y_val = df_targets.iloc[val_idx]\n",
    "y_test = df_targets.iloc[test_idx] \n",
    "# train model\n",
    "reg = RandomForestRegressor(max_depth=max_depth, min_samples_leaf=min_samples_leaf, n_estimators=n_estimators, random_state=n_rand, n_jobs=ncpus)\n",
    "reg.fit(X_train, y_train)\n",
    "# save model\n",
    "out_filename = 'rf_reg.pkl'\n",
    "out_path = os.path.join(out_dir, out_filename)\n",
    "joblib.dump(reg, out_path)"
   ]
  },
  {
   "cell_type": "markdown",
   "id": "dcc618a8",
   "metadata": {},
   "source": [
    "## Classification"
   ]
  },
  {
   "cell_type": "code",
   "execution_count": 14,
   "id": "581e9f0f",
   "metadata": {},
   "outputs": [
    {
     "data": {
      "text/plain": [
       "['/home/jko/temp/skl-models/rf_cls.pkl']"
      ]
     },
     "execution_count": 14,
     "metadata": {},
     "output_type": "execute_result"
    }
   ],
   "source": [
    "# set hyperparameters (tuned with grid search)\n",
    "max_depth=10\n",
    "min_samples_split=5\n",
    "n_estimators=200\n",
    "# create train/test set\n",
    "df = pd.read_parquet(data_path)\n",
    "df = df[df['view']=='default']\n",
    "df_features = df[features_single]\n",
    "df_targets = df[targets_cls]\n",
    "X = df_features\n",
    "y = df_targets\n",
    "# train/val/test split\n",
    "X_train = df_features.iloc[train_idx]\n",
    "X_val = df_features.iloc[val_idx]\n",
    "X_test = df_features.iloc[test_idx]\n",
    "y_train = df_targets.iloc[train_idx] \n",
    "y_val = df_targets.iloc[val_idx]\n",
    "y_test = df_targets.iloc[test_idx] \n",
    "# train model\n",
    "classifier = RandomForestClassifier(max_depth=10, min_samples_split=5,\n",
    "n_estimators=200, n_jobs=ncpus, random_state=n_rand)\n",
    "scaler = StandardScaler()\n",
    "X_train_scaled = scaler.fit_transform(X_train)\n",
    "X_val_scaled = scaler.transform(X_val)\n",
    "X_test_scaled = scaler.transform(X_test)\n",
    "classifier.fit(X_train_scaled, y_train.values.ravel())\n",
    "# save model\n",
    "out_filename = 'rf_cls.pkl'\n",
    "out_path = os.path.join(out_dir, out_filename)\n",
    "joblib.dump(classifier, out_path)"
   ]
  }
 ],
 "metadata": {
  "kernelspec": {
   "display_name": "Python 3.13.3 ('torch')",
   "language": "python",
   "name": "python3"
  },
  "language_info": {
   "codemirror_mode": {
    "name": "ipython",
    "version": 3
   },
   "file_extension": ".py",
   "mimetype": "text/x-python",
   "name": "python",
   "nbconvert_exporter": "python",
   "pygments_lexer": "ipython3",
   "version": "3.13.3"
  },
  "vscode": {
   "interpreter": {
    "hash": "8658764d9b797a2c8f9923ddcd38c86560d2e4c4233111378203e5da49e50175"
   }
  }
 },
 "nbformat": 4,
 "nbformat_minor": 5
}
